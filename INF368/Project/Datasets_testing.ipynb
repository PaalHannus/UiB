{
 "cells": [
  {
   "cell_type": "code",
   "execution_count": 3,
   "metadata": {},
   "outputs": [],
   "source": [
    "from datasets import load_dataset\n"
   ]
  },
  {
   "cell_type": "code",
   "execution_count": 49,
   "metadata": {},
   "outputs": [
    {
     "name": "stderr",
     "output_type": "stream",
     "text": [
      "Reusing dataset wikiann (C:\\Users\\paal_\\.cache\\huggingface\\datasets\\wikiann\\no\\1.1.0\\a15e045b963d8f93f344ace01804ad38ed4b750c7c53f95f401267781ad700ca)\n"
     ]
    },
    {
     "data": {
      "application/vnd.jupyter.widget-view+json": {
       "model_id": "c5117b2cfa234e8abe0a6a1ef591bb14",
       "version_major": 2,
       "version_minor": 0
      },
      "text/plain": [
       "  0%|          | 0/3 [00:00<?, ?it/s]"
      ]
     },
     "metadata": {},
     "output_type": "display_data"
    }
   ],
   "source": [
    "dataset = load_dataset(\n",
    "   'wikiann', 'no')"
   ]
  },
  {
   "cell_type": "code",
   "execution_count": 50,
   "metadata": {},
   "outputs": [
    {
     "name": "stdout",
     "output_type": "stream",
     "text": [
      "[['Som', 'forlengelse', 'av', 'Mississippi', 'har', 'elva', 'gitt', 'adgang', 'til', 'lektertransport', 'helt', 'til', 'New', 'Orleans', 'ved', 'Mexico-golfen', '.'], ['OMDIRIGERING', 'King', 'Power', 'Stadium'], ['Hun', 'ble', 'så', 'interessert', 'at', 'hun', 'senere', 'reiste', 'til', 'England', 'for', 'å', 'få', 'opplæring', '.'], ['Han', 'blir', 'dermed', 'også', '(', 'halv', ')', 'bror', 'til', 'Rolf', 'Krake', '.'], ['Det', 'ligger', 'i', 'byprefekturet', 'Yinchuan', '.'], ['OMDIRIGERING', 'Beesley', \"'s\", 'Point', 'kraftverk'], ['Clwyd', '–', 'Conwy', ',', 'Denbighshire', ',', 'Flintshire', ',', 'Wrexham'], ['Selve', 'språket', 'er', 'en', 'blanding', 'av', 'dialektene', 'som', 'ble', 'brukt', 'da', 'Buddha', 'levde', 'og', 'holdt', 'sine', 'prekener', 'og', 'taler', '.'], ['Vasil', 'Kiryjenka', 'Danny', 'Pate', 'Salvatore', 'Puccio', 'Luke', 'Rowe', 'Ian', 'Stannard', 'Elia', 'Viviani'], ['Christian', 'Klar', ',', 'og', 'inntok', 'en', 'lederrolle', 'blant', 'den', 'andre', 'RAF-generasjonen', '.']]\n"
     ]
    }
   ],
   "source": [
    "print(dataset['train']['tokens'][:10])"
   ]
  },
  {
   "cell_type": "code",
   "execution_count": 35,
   "metadata": {},
   "outputs": [
    {
     "data": {
      "application/vnd.jupyter.widget-view+json": {
       "model_id": "27136c885bc24490a4753fd17e6ce8a4",
       "version_major": 2,
       "version_minor": 0
      },
      "text/plain": [
       "Downloading:   0%|          | 0.00/1.64k [00:00<?, ?B/s]"
      ]
     },
     "metadata": {},
     "output_type": "display_data"
    },
    {
     "data": {
      "application/vnd.jupyter.widget-view+json": {
       "model_id": "1c3049a7d1ec45eb8b84b582f0d356ce",
       "version_major": 2,
       "version_minor": 0
      },
      "text/plain": [
       "Downloading:   0%|          | 0.00/1.22k [00:00<?, ?B/s]"
      ]
     },
     "metadata": {},
     "output_type": "display_data"
    },
    {
     "name": "stdout",
     "output_type": "stream",
     "text": [
      "Downloading and preparing dataset bible_para/en-no (download: 5.05 MiB, generated: 15.91 MiB, post-processed: Unknown size, total: 20.96 MiB) to C:\\Users\\paal_\\.cache\\huggingface\\datasets\\bible_para\\en-no\\1.0.0\\b6cc20bcbfb0299beeba1dcc80a8420b975938ca0eef75b3ed30b50df7d950b1...\n"
     ]
    },
    {
     "data": {
      "application/vnd.jupyter.widget-view+json": {
       "model_id": "520b634f77de485794176f6dc825cfbf",
       "version_major": 2,
       "version_minor": 0
      },
      "text/plain": [
       "Downloading:   0%|          | 0.00/5.29M [00:00<?, ?B/s]"
      ]
     },
     "metadata": {},
     "output_type": "display_data"
    },
    {
     "data": {
      "application/vnd.jupyter.widget-view+json": {
       "model_id": "",
       "version_major": 2,
       "version_minor": 0
      },
      "text/plain": [
       "0 examples [00:00, ? examples/s]"
      ]
     },
     "metadata": {},
     "output_type": "display_data"
    },
    {
     "name": "stdout",
     "output_type": "stream",
     "text": [
      "Dataset bible_para downloaded and prepared to C:\\Users\\paal_\\.cache\\huggingface\\datasets\\bible_para\\en-no\\1.0.0\\b6cc20bcbfb0299beeba1dcc80a8420b975938ca0eef75b3ed30b50df7d950b1. Subsequent calls will reuse this data.\n"
     ]
    },
    {
     "data": {
      "application/vnd.jupyter.widget-view+json": {
       "model_id": "6196edc979694c40a2cc4d0c7dfafd4f",
       "version_major": 2,
       "version_minor": 0
      },
      "text/plain": [
       "  0%|          | 0/1 [00:00<?, ?it/s]"
      ]
     },
     "metadata": {},
     "output_type": "display_data"
    }
   ],
   "source": [
    "dataset = load_dataset(\n",
    "   'bible_para', 'en-no')"
   ]
  },
  {
   "cell_type": "code",
   "execution_count": 44,
   "metadata": {},
   "outputs": [
    {
     "name": "stdout",
     "output_type": "stream",
     "text": [
      "62107\n"
     ]
    }
   ],
   "source": [
    "print(len(dataset['train']['translation']))"
   ]
  },
  {
   "cell_type": "code",
   "execution_count": 45,
   "metadata": {},
   "outputs": [
    {
     "name": "stdout",
     "output_type": "stream",
     "text": [
      "['I begynnelsen skapte Gud himmelen og jorden.', 'Og jorden var øde og tom, og det var mørke over det store dyp, og Guds Ånd svevde over vannene.', 'Da sa Gud: Det bli lys! Og det blev lys.', 'Og Gud så at lyset var godt, og Gud skilte lyset fra mørket.', 'Og Gud kalte lyset dag, og mørket kalte han natt. Og det blev aften, og det blev morgen, første dag.', 'Og Gud sa: Det bli en hvelving midt i vannene, og den skal skille vann fra vann.', 'Og Gud gjorde hvelvingen og skilte vannet som er under hvelvingen, fra vannet som er over hvelvingen. Og det blev så.', 'Og Gud kalte hvelvingen himmel. Og det blev aften, og det blev morgen, annen dag.', 'Og Gud sa: Vannet under himmelen samle sig til ett sted, og det blev så.', 'Og Gud kalte det tørre land jord, og vannet som hadde samlet sig, kalte han hav. Og Gud så at det var godt.']\n"
     ]
    }
   ],
   "source": [
    "print([x['no'] for x in dataset['train']['translation'][:10]])"
   ]
  },
  {
   "cell_type": "code",
   "execution_count": 47,
   "metadata": {},
   "outputs": [],
   "source": [
    "data = [x['no'] for x in dataset['train']['translation']]\n",
    "textfile = open(\"bibel.txt\", \"w\")\n",
    "for element in data:\n",
    "    textfile.write(element + \"\\n\")\n",
    "textfile.close()"
   ]
  },
  {
   "cell_type": "code",
   "execution_count": null,
   "metadata": {},
   "outputs": [],
   "source": []
  }
 ],
 "metadata": {
  "kernelspec": {
   "display_name": "Python 3",
   "language": "python",
   "name": "python3"
  },
  "language_info": {
   "codemirror_mode": {
    "name": "ipython",
    "version": 3
   },
   "file_extension": ".py",
   "mimetype": "text/x-python",
   "name": "python",
   "nbconvert_exporter": "python",
   "pygments_lexer": "ipython3",
   "version": "3.8.5"
  }
 },
 "nbformat": 4,
 "nbformat_minor": 4
}
