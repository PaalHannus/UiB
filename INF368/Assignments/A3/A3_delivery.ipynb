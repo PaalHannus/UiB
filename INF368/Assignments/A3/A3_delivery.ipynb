{
 "cells": [
  {
   "cell_type": "code",
   "execution_count": 1,
   "metadata": {},
   "outputs": [],
   "source": [
    "import numpy as np\n",
    "import matplotlib.pyplot as plt"
   ]
  },
  {
   "cell_type": "code",
   "execution_count": 2,
   "metadata": {},
   "outputs": [],
   "source": [
    "class FeedforwardNN():\n",
    "    def __init__(self, structure):\n",
    "        \n",
    "        self._layers, self.act = list(zip(*structure))\n",
    "        self._params = {}\n",
    "        self.grad = {}\n",
    "        self.a_dict = {\n",
    "            \"relu\" : self.relu,\n",
    "            \"sigmoid\" : self.sigmoid,\n",
    "        }\n",
    "        self.d_dict = {\n",
    "            \"relu\" : self.d_relu,\n",
    "            \"sigmoid\" : self.d_sigmoid\n",
    "        }\n",
    "        self.__init_weights()\n",
    "        \n",
    "\n",
    "    def __init_weights(self):\n",
    "        self._params['W'] = {}\n",
    "        self._params['B'] = {}\n",
    "        for layer in (range(1, len(self._layers))):\n",
    "            self._params['W'][layer] = np.random.rand(self._layers[layer], self._layers[layer-1])\n",
    "            self._params['B'][layer] = np.random.rand(self._layers[layer], 1)\n",
    "            \n",
    "    def sigmoid(self, val):\n",
    "        return 1.0/(1 + np.exp(-val))\n",
    "    \n",
    "    def d_sigmoid(self, val):\n",
    "        return np.exp(-val) / (np.exp(-val)+1)**2\n",
    "    \n",
    "    def relu(self, val):\n",
    "        return np.where(val > 0, val, 0)\n",
    "\n",
    "    def d_relu(self, val):\n",
    "        return np.where(val > 0, 1, 0)\n",
    "\n",
    "    def softmax(self, val):\n",
    "        exps = np.exp(val - val.max())\n",
    "        return exps / np.sum(exps, axis=0)\n",
    "    \n",
    "    def d_softmax(self, val):\n",
    "        exps = np.exp(val - val.max())\n",
    "        return exps / np.sum(exps, axis=0) * (1 - exps / np.sum(exps, axis=0))\n",
    "    \n",
    "    def cross_entropy(self, predictions, targets, epsilon=1e-9):\n",
    "        predictions = np.clip(predictions.squeeze(), epsilon, 1. - epsilon)\n",
    "        \n",
    "        N = predictions.shape[0]\n",
    "        ce = -np.sum(targets*np.log(predictions))/N\n",
    "        return ce\n",
    "    \n",
    "    def predict(self, X):\n",
    "        '''\n",
    "        The predict function.\n",
    "        Input: \n",
    "        - X \n",
    "        Output:\n",
    "        - Predicted class in the form of a softmax\n",
    "        '''\n",
    "        A = X.T\n",
    "        for layer in range(1, len(self._layers)-1):\n",
    "            Z = np.dot(self._params['W'][layer], A) + self._params['B'][layer]\n",
    "            A = self.a_dict[self.act[layer]](Z)\n",
    "        Z = np.dot(self._params['W'][len(self._layers)-1], A) + self._params['B'][len(self._layers)-1]\n",
    "        A = self.softmax(Z)\n",
    "        return A\n",
    "    \n",
    "    def forward(self, X):\n",
    "        '''\n",
    "        Forward propagation. Loops through all layers and calculates activations of each layer. The values are stored in \n",
    "        a variable called grad\n",
    "        '''\n",
    "        grad = {\n",
    "            'A' : {},\n",
    "            'Z' : {},\n",
    "        }\n",
    "        A = X.T\n",
    "        grad['A'][0] = A\n",
    "        \n",
    "        for layer in range(1, len(self._layers)-1):\n",
    "            Z = np.dot(self._params['W'][layer], A) + self._params['B'][layer]\n",
    "            A = self.a_dict[self.act[layer]](Z)\n",
    "            grad['A'][layer] = A\n",
    "            grad['Z'][layer] = Z\n",
    "        \n",
    "        Z = np.dot(self._params['W'][len(self._layers)-1], A) + self._params['B'][len(self._layers)-1]\n",
    "        A = self.softmax(Z)\n",
    "        \n",
    "        grad[\"A\"][len(self._layers) - 1] = A\n",
    "        grad[\"Z\"][len(self._layers) - 1] = Z\n",
    "        self.grad = grad\n",
    "        \n",
    "        return A\n",
    "    \n",
    "    def backwards(self, y_true):\n",
    "        '''\n",
    "        Backwards propagation. Loops through the layers in a reversed order and calculates the gradients of each layer.\n",
    "        The gradients are stores in a dictionary. In the last network layer the ground truth and the prediction are\n",
    "        compared.\n",
    "        \n",
    "        Input:\n",
    "        - y_true: ground truth\n",
    "        '''\n",
    "        n_layers = len(self._layers)\n",
    "        W = self._params['W']\n",
    "        B = self._params['B']\n",
    "        grad = self.grad\n",
    "        \n",
    "        gradients = {\n",
    "            'Z' : {},\n",
    "            'W' : {},\n",
    "            'b' : {}\n",
    "        }\n",
    "        for layer in reversed(range(1,n_layers)):\n",
    "            if layer == n_layers-1:\n",
    "                dZ = grad['A'][n_layers-1].reshape(grad['Z'][n_layers-1].shape) - y_true.reshape(grad['Z'][n_layers-1].shape)\n",
    "            else:\n",
    "                dZ = np.dot(W[layer+1].T, dZ) * self.d_dict[self.act[layer]](grad['Z'][layer])\n",
    "            \n",
    "            dW = np.dot(dZ, grad['A'][layer-1].T)\n",
    "            db = dZ\n",
    "            \n",
    "            gradients['Z'][layer] = dZ\n",
    "            gradients['W'][layer] = dW\n",
    "            gradients['b'][layer] = db\n",
    "        self.gradients = gradients\n",
    "        return gradients\n",
    "    \n",
    "    def optimize(self, lr):\n",
    "        '''\n",
    "        Loops over the layers of the network and updates the weights and biases in each layer based on gradients\n",
    "        from backprop and learning rate.\n",
    "        \n",
    "        Input:\n",
    "        - lr : learning rate\n",
    "        '''\n",
    "        for layer in range(1, len(self._layers)):\n",
    "            before = self._params['W'][layer].copy()\n",
    "            self._params['W'][layer] -= lr * self.gradients['W'][layer]\n",
    "            self._params['B'][layer] -= lr * self.gradients['b'][layer]\n",
    "    \n",
    "    def reset_gradients(self):\n",
    "        '''\n",
    "        Simply resets the gradients of the model\n",
    "        '''\n",
    "        self.gradients = {}\n",
    "        \n",
    "    def train(self, data, labels, n_epochs, lr=0.01, verbose=False):\n",
    "        '''\n",
    "        Neural network training procedure. Will loop over the training data for n_epochs times. For each training\n",
    "        example it will update the weights based on the gradients from backprop and the learning rate. \n",
    "        Additionally we keep the loss during all epochs for visualisation purposes.\n",
    "        \n",
    "        Input:\n",
    "        - data\n",
    "        - labels\n",
    "        - n_epochs : number of training epochs\n",
    "        - lr : learning rate (default = 0.01)\n",
    "        \n",
    "        Output:\n",
    "        - A list containing the averaged error for each epoch\n",
    "        '''\n",
    "        print(\"--- Training started---\")\n",
    "        error = []\n",
    "        for epoch in range(n_epochs):\n",
    "            epoch_loss = 0\n",
    "            for x, y in zip(data,labels):\n",
    "                \n",
    "                pred = self.forward(x)\n",
    "                epoch_loss = epoch_loss + self.cross_entropy(pred, y)\n",
    "                self.backwards(y)\n",
    "                self.optimize(lr)\n",
    "                \n",
    "            error.append(epoch_loss / len(labels))\n",
    "            if verbose:\n",
    "                print(f\"--- Epoch {epoch+1} complete == loss: {epoch_loss/len(labels)}---\")\n",
    "                \n",
    "        print(\"--- Training ended---\")\n",
    "        return error"
   ]
  },
  {
   "cell_type": "markdown",
   "metadata": {},
   "source": [
    "## XOR OneHot example:\n"
   ]
  },
  {
   "cell_type": "code",
   "execution_count": 3,
   "metadata": {},
   "outputs": [
    {
     "name": "stdout",
     "output_type": "stream",
     "text": [
      "--- Training started---\n",
      "--- Training ended---\n"
     ]
    }
   ],
   "source": [
    "simpleNet = FeedforwardNN([(2,\"relu\") ,(9,\"relu\"), (2,\"relu\")])\n",
    "\n",
    "# XOR function\n",
    "data = [np.array([[0,0]]), np.array([[0,1]]), np.array([[1,0]]), np.array([[1,1]])]\n",
    "labels = [np.array([[0,1]]), np.array([[1,0]]), np.array([[1,0]]), np.array([[0,1]])]\n",
    "\n",
    "error = simpleNet.train(data, labels, 1000, lr=0.1)\n"
   ]
  },
  {
   "cell_type": "code",
   "execution_count": 4,
   "metadata": {},
   "outputs": [
    {
     "name": "stdout",
     "output_type": "stream",
     "text": [
      "[0.00109975 0.99890025]\n",
      "0.0005501774661700688\n",
      "Low loss when prediction is correct\n"
     ]
    }
   ],
   "source": [
    "# TP example\n",
    "pred = simpleNet.predict(np.array([[1,1]])).reshape(2,)\n",
    "loss = simpleNet.cross_entropy(pred, np.array([[0,1]]))\n",
    "\n",
    "print(pred)\n",
    "print(loss)\n",
    "print(\"Low loss when prediction is correct\")"
   ]
  },
  {
   "cell_type": "code",
   "execution_count": 5,
   "metadata": {},
   "outputs": [
    {
     "name": "stdout",
     "output_type": "stream",
     "text": [
      "[0.00109975 0.99890025]\n",
      "3.4063363062382273\n",
      "High loss when prediction is wrong\n"
     ]
    }
   ],
   "source": [
    "# TN example\n",
    "pred = simpleNet.predict(np.array([[1,1]])).reshape(2,)\n",
    "loss = simpleNet.cross_entropy(pred, np.array([[1,0]]))\n",
    "\n",
    "print(pred)\n",
    "print(loss)\n",
    "print(\"High loss when prediction is wrong\")"
   ]
  },
  {
   "cell_type": "code",
   "execution_count": 6,
   "metadata": {},
   "outputs": [
    {
     "data": {
      "text/plain": [
       "[<matplotlib.lines.Line2D at 0x2361cab5fa0>]"
      ]
     },
     "execution_count": 6,
     "metadata": {},
     "output_type": "execute_result"
    },
    {
     "data": {
      "image/png": "[encoded data removed]",
      "text/plain": [
       "<Figure size 432x288 with 1 Axes>"
      ]
     },
     "metadata": {
      "needs_background": "light"
     },
     "output_type": "display_data"
    }
   ],
   "source": [
    "plt.plot(error)"
   ]
  },
  {
   "cell_type": "code",
   "execution_count": 7,
   "metadata": {},
   "outputs": [],
   "source": [
    "def encodeData(data, max_size=500):\n",
    "    '''\n",
    "    Function used for OneHot encodings\n",
    "    \n",
    "    Input:\n",
    "    - Data in the form list of numbers.\n",
    "    \n",
    "    Output:\n",
    "    - List where entries now are onehot encoded.\n",
    "    '''\n",
    "    res = np.zeros((data.size, max_size))\n",
    "    res[np.arange(data.size),data] = 1\n",
    "    return res"
   ]
  },
  {
   "cell_type": "markdown",
   "metadata": {},
   "source": [
    "# Quick learning visualization\n",
    "\n",
    "Here is a quick example showing that the model is learning quickly.\n",
    "\n",
    "Learning using the ReLU goes very quickly but is for some reason a little unstable. I have not been able to figure out what is the reason behind this.\n",
    "\n",
    "Learning using the sigmoid is very stable and we get a nice learning curve"
   ]
  },
  {
   "cell_type": "code",
   "execution_count": 8,
   "metadata": {},
   "outputs": [],
   "source": [
    "from sklearn import datasets\n",
    "\n",
    "iris = datasets.load_iris()\n",
    "X = list(iris.data)\n",
    "X = [np.array([x]) for x in X]\n",
    "y = list(encodeData(iris.target, 3))\n",
    "y = [np.array([i]) for i in y]\n"
   ]
  },
  {
   "cell_type": "code",
   "execution_count": 9,
   "metadata": {},
   "outputs": [
    {
     "name": "stdout",
     "output_type": "stream",
     "text": [
      "--- Training started---\n",
      "--- Training ended---\n"
     ]
    },
    {
     "data": {
      "text/plain": [
       "[<matplotlib.lines.Line2D at 0x2361997ba90>]"
      ]
     },
     "execution_count": 9,
     "metadata": {},
     "output_type": "execute_result"
    },
    {
     "data": {
      "image/png": "[encoded data removed]",
      "text/plain": [
       "<Figure size 432x288 with 1 Axes>"
      ]
     },
     "metadata": {
      "needs_background": "light"
     },
     "output_type": "display_data"
    }
   ],
   "source": [
    "nn = FeedforwardNN([(4,\"does nothing\"),(24, \"relu\"),(3,\"does nothing\")])\n",
    "error = nn.train(X,y, 1000)\n",
    "plt.plot(error)"
   ]
  },
  {
   "cell_type": "code",
   "execution_count": 10,
   "metadata": {},
   "outputs": [
    {
     "name": "stdout",
     "output_type": "stream",
     "text": [
      "--- Training started---\n",
      "--- Training ended---\n"
     ]
    },
    {
     "data": {
      "text/plain": [
       "[<matplotlib.lines.Line2D at 0x2361f269a30>]"
      ]
     },
     "execution_count": 10,
     "metadata": {},
     "output_type": "execute_result"
    },
    {
     "data": {
      "image/png": "[encoded data removed]",
      "text/plain": [
       "<Figure size 432x288 with 1 Axes>"
      ]
     },
     "metadata": {
      "needs_background": "light"
     },
     "output_type": "display_data"
    }
   ],
   "source": [
    "nn = FeedforwardNN([(4,\"does nothing\"),(24, \"sigmoid\"),(3,\"does nothing\")])\n",
    "error = nn.train(X,y, 1000)\n",
    "plt.plot(error)"
   ]
  },
  {
   "cell_type": "markdown",
   "metadata": {},
   "source": [
    "\n",
    "## Embeddings"
   ]
  },
  {
   "cell_type": "code",
   "execution_count": 11,
   "metadata": {},
   "outputs": [],
   "source": [
    "import tensorflow as tf\n",
    "import re\n",
    "from string import punctuation\n",
    "import nltk\n",
    "from nltk import word_tokenize\n",
    "from nltk.util import ngrams\n",
    "from collections import Counter"
   ]
  },
  {
   "cell_type": "code",
   "execution_count": 12,
   "metadata": {},
   "outputs": [],
   "source": [
    "path_to_file = tf.keras.utils.get_file('shakespeare.txt', 'https://storage.googleapis.com/download.tensorflow.org/data/shakespeare.txt')"
   ]
  },
  {
   "cell_type": "code",
   "execution_count": 13,
   "metadata": {},
   "outputs": [],
   "source": [
    "path_to_file = tf.keras.utils.get_file('shakespeare.txt', 'https://storage.googleapis.com/download.tensorflow.org/data/shakespeare.txt')\n",
    "def getData(vocab_size = 500, path_to_file = path_to_file):\n",
    "    '''\n",
    "    Function to creates out vocabulary, and separates our data into training examples. \n",
    "    It also makes sure that the words in the training data are in the vocab.\n",
    "    Input:\n",
    "    - Vocab_size: How large is your vocab (default 500 for quick learning)\n",
    "    - Path_to_file: Path to the dataset file, in this case shakespeare\n",
    "    \n",
    "    Output:\n",
    "    - V: Vocab\n",
    "    - X: Training data\n",
    "    - y: Training labels\n",
    "    '''\n",
    "    \n",
    "    with open(path_to_file, encoding='utf-8') as f: \n",
    "        data = f.read()\n",
    "    f.close()\n",
    "    \n",
    "    data = data\n",
    "    \n",
    "    stoplist = set(list(punctuation) + [\"--\"])\n",
    "    tokens = [token for token in nltk.word_tokenize(data.lower()) if token not in stoplist]\n",
    "    \n",
    "    count = Counter(tokens)\n",
    "    vocab = [ x for (x,y) in count.most_common(vocab_size)]\n",
    "    \n",
    "    data_ngrams = list(ngrams(tokens, 4))\n",
    "    \n",
    "    # Checks that all words are in vocab.\n",
    "    in_vocab = [ngram for ngram in data_ngrams if all([x in vocab for x in ngram])]\n",
    "\n",
    "    X = [example[:3] for example in in_vocab]\n",
    "    y = [example[-1] for example in in_vocab]\n",
    "    return vocab, X, y\n",
    "    \n",
    "#vocab_size = 1024\n",
    "#v, X, y = getData(vocab_size=vocab_size)"
   ]
  },
  {
   "cell_type": "code",
   "execution_count": 14,
   "metadata": {},
   "outputs": [],
   "source": [
    "import tensorflow as tf\n",
    "path_1 = tf.keras.utils.get_file('mobydick.txt', 'https://www.gutenberg.org/files/2701/2701-0.txt')\n",
    "path_2 = tf.keras.utils.get_file('huckleberry.txt', 'https://www.gutenberg.org/files/76/76-0.txt')\n",
    "\n",
    "\n",
    "def combine_files(files, output_path):\n",
    "    with open(output_path, 'w', encoding='utf-8') as outfile:\n",
    "        for fname in files:\n",
    "            with open(fname, encoding='utf-8') as infile:\n",
    "                for line in infile:\n",
    "                    outfile.write(line)\n",
    "\n",
    "combine_files([path_1, path_2], \"books_combined.txt\")\n",
    "vocab_size = 1024\n",
    "v, X, y = getData(vocab_size=vocab_size, path_to_file=\"books_combined.txt\")"
   ]
  },
  {
   "cell_type": "code",
   "execution_count": 15,
   "metadata": {},
   "outputs": [
    {
     "name": "stdout",
     "output_type": "stream",
     "text": [
      "[('or', 'the', 'whale'), ('is', 'for', 'the'), ('for', 'the', 'use'), ('in', 'the', 'united')]\n",
      "['by', 'use', 'of', 'states']\n",
      "132091\n"
     ]
    }
   ],
   "source": [
    "print(X[:4])\n",
    "print(y[:4])\n",
    "print(len(X))"
   ]
  },
  {
   "cell_type": "code",
   "execution_count": 16,
   "metadata": {},
   "outputs": [],
   "source": [
    "# Here we create mappings from words to ints and back. This is used when creating embeddings\n",
    "word_to_int = {}\n",
    "int_to_word = {}\n",
    "for i, word in enumerate(v):\n",
    "    word_to_int[word] = i\n",
    "    int_to_word[i] = word"
   ]
  },
  {
   "cell_type": "code",
   "execution_count": 17,
   "metadata": {},
   "outputs": [],
   "source": [
    "# In this case 64 dimensions\n",
    "model = FeedforwardNN([(vocab_size,\"does nothing\"),(64, \"sigmoid\"),(64, \"sigmoid\"),(64, \"sigmoid\"),(vocab_size,\"does nothing\")])"
   ]
  },
  {
   "cell_type": "code",
   "execution_count": 18,
   "metadata": {},
   "outputs": [],
   "source": [
    "\n",
    "def training_procedure(model, X, y, epochs, vocab_size, combine = False, verbose=False, lr=0.01):\n",
    "    '''\n",
    "    For each training example, encode it and its label\n",
    "    Feed this new encoded dataset into out model.\n",
    "    '''\n",
    "    n_examples = len(y)\n",
    "    \n",
    "    onehot_data = []\n",
    "    onehot_labels = []\n",
    "    \n",
    "    if not combine:\n",
    "        for context, label in zip(X,y):\n",
    "            converted = np.asarray([word_to_int[word] for word in context])\n",
    "            encoded_data = encodeData(np.asarray(converted), vocab_size).reshape(1,3*vocab_size)\n",
    "            encoded_label = encodeData(np.asarray(word_to_int[label]), vocab_size)\n",
    "\n",
    "            onehot_data.append(encoded_data)\n",
    "            onehot_labels.append(encoded_label)\n",
    "    else:\n",
    "        for context, label in zip(X,y):\n",
    "            converted = np.asarray([word_to_int[word] for word in context])\n",
    "            encoded_data = np.sum(encodeData(np.asarray(converted), vocab_size), axis=0).reshape(1, vocab_size)\n",
    "            encoded_label = encodeData(np.asarray(word_to_int[label]), vocab_size)\n",
    "\n",
    "            onehot_data.append(encoded_data)\n",
    "            onehot_labels.append(encoded_label)\n",
    "            \n",
    "    \n",
    "    return model.train(onehot_data, onehot_labels, epochs, lr=lr, verbose=verbose)\n",
    "        \n",
    "#error = training_procedure(model, X, y, 1, vocab_size, True)\n"
   ]
  },
  {
   "cell_type": "code",
   "execution_count": 19,
   "metadata": {},
   "outputs": [],
   "source": [
    "weights = model._params['W'][len(model._params['W'])]\n",
    "vocab = v"
   ]
  },
  {
   "cell_type": "code",
   "execution_count": 20,
   "metadata": {},
   "outputs": [
    {
     "name": "stdout",
     "output_type": "stream",
     "text": [
      "(1024, 64)\n"
     ]
    }
   ],
   "source": [
    "print(weights.shape)"
   ]
  },
  {
   "cell_type": "code",
   "execution_count": 21,
   "metadata": {},
   "outputs": [],
   "source": [
    "import io\n",
    "out_v = io.open('vectors_combined_5epochs.tsv', 'w', encoding='utf-8')\n",
    "out_m = io.open('metadata_combined_5epochs.tsv', 'w', encoding='utf-8')\n",
    "\n",
    "for index, word in enumerate(vocab):\n",
    "\n",
    "    vec = weights[index]\n",
    "    out_v.write('\\t'.join([str(x) for x in vec]) + \"\\n\")\n",
    "    out_m.write(word + \"\\n\")\n",
    "out_v.close()\n",
    "out_m.close()"
   ]
  },
  {
   "cell_type": "code",
   "execution_count": 24,
   "metadata": {},
   "outputs": [
    {
     "name": "stdout",
     "output_type": "stream",
     "text": [
      "--- Training started---\n",
      "--- Epoch 1 complete == loss: 0.010061189609935304---\n",
      "--- Epoch 2 complete == loss: 0.010069788207134268---\n",
      "--- Epoch 3 complete == loss: 0.01006983726871644---\n",
      "--- Epoch 4 complete == loss: 0.010069837228530302---\n",
      "--- Epoch 5 complete == loss: 0.010069837018637466---\n",
      "--- Epoch 6 complete == loss: 0.010069836945265155---\n",
      "--- Epoch 7 complete == loss: 0.010069836922403999---\n",
      "--- Epoch 8 complete == loss: 0.010069836915459448---\n",
      "--- Epoch 9 complete == loss: 0.0100698369133649---\n",
      "--- Epoch 10 complete == loss: 0.010069836912734597---\n",
      "--- Training ended---\n"
     ]
    }
   ],
   "source": [
    "vocab_size = 512\n",
    "v, X, y = getData(vocab_size=vocab_size, path_to_file=\"books_combined.txt\")\n",
    "\n",
    "word_to_int = {}\n",
    "int_to_word = {}\n",
    "for i, word in enumerate(v):\n",
    "    word_to_int[word] = i\n",
    "    int_to_word[i] = word\n",
    "\n",
    "model = FeedforwardNN([(vocab_size,\"does nothing\"),(64, \"relu\"),(64, \"relu\"),(64, \"relu\"),(vocab_size,\"does nothing\")])\n",
    "error = training_procedure(model, X, y, 10, vocab_size, lr=0.2, combine = True, verbose=True)\n"
   ]
  },
  {
   "cell_type": "code",
   "execution_count": 25,
   "metadata": {},
   "outputs": [],
   "source": [
    "out_v = io.open('vectors_3hidden_10epochs_books_Svocab_VLlr.tsv', 'w', encoding='utf-8')\n",
    "out_m = io.open('metadata_3hidden_10epochs_books_Svocab_VLlr.tsv', 'w', encoding='utf-8')\n",
    "\n",
    "for index, word in enumerate(vocab):\n",
    "\n",
    "    vec = weights[index]\n",
    "    out_v.write('\\t'.join([str(x) for x in vec]) + \"\\n\")\n",
    "    out_m.write(word + \"\\n\")\n",
    "out_v.close()\n",
    "out_m.close()"
   ]
  },
  {
   "cell_type": "code",
   "execution_count": null,
   "metadata": {},
   "outputs": [],
   "source": []
  }
 ],
 "metadata": {
  "kernelspec": {
   "display_name": "Python 3",
   "language": "python",
   "name": "python3"
  },
  "language_info": {
   "codemirror_mode": {
    "name": "ipython",
    "version": 3
   },
   "file_extension": ".py",
   "mimetype": "text/x-python",
   "name": "python",
   "nbconvert_exporter": "python",
   "pygments_lexer": "ipython3",
   "version": "3.8.5"
  }
 },
 "nbformat": 4,
 "nbformat_minor": 4
}
