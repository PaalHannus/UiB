{
 "cells": [
  {
   "cell_type": "code",
   "execution_count": 1,
   "metadata": {},
   "outputs": [],
   "source": [
    "import numpy as np\n",
    "import matplotlib.pyplot as plt"
   ]
  },
  {
   "cell_type": "code",
   "execution_count": 73,
   "metadata": {},
   "outputs": [],
   "source": [
    "class FeedforwardNN():\n",
    "    def __init__(self, structure):\n",
    "        self._layers, self.act = list(zip(*structure))\n",
    "        self._params = {}\n",
    "        self.grad = {}\n",
    "        self.a_dict = {\n",
    "            \"relu\" : self.relu,\n",
    "            \"sigmoid\" : self.sigmoid,\n",
    "        }\n",
    "        self.d_dict = {\n",
    "            \"relu\" : self.d_relu,\n",
    "            \"sigmoid\" : self.d_sigmoid\n",
    "        }\n",
    "        self.__init_weights()\n",
    "\n",
    "    def __init_weights(self):\n",
    "        self._params['W'] = {}\n",
    "        self._params['B'] = {}\n",
    "        for layer in (range(1, len(self._layers))):\n",
    "            self._params['W'][layer] = np.random.rand(self._layers[layer], self._layers[layer-1])\n",
    "            self._params['B'][layer] = np.random.rand(self._layers[layer], 1)\n",
    "            \n",
    "    def sigmoid(self, val):\n",
    "        return 1.0/(1 + np.exp(-val))\n",
    "    \n",
    "    def d_sigmoid(self, val):\n",
    "        return np.exp(-val) / (np.exp(-val)+1)**2\n",
    "    \n",
    "    def relu(self, val):\n",
    "        return np.where(val > 0, val, 0)\n",
    "\n",
    "    def d_relu(self, val):\n",
    "        return np.where(val > 0, 1, 0)\n",
    "\n",
    "    def softmax(self, val):\n",
    "        exps = np.exp(val - val.max())\n",
    "        return exps / np.sum(exps, axis=0)\n",
    "    \n",
    "    def d_softmax(self, val):\n",
    "        exps = np.exp(val - val.max())\n",
    "        return exps / np.sum(exps, axis=0) * (1 - exps / np.sum(exps, axis=0))\n",
    "    \n",
    "    def cross_entropy(self, predictions, targets, epsilon=1e-9):\n",
    "        predictions = np.clip(predictions.squeeze(), epsilon, 1. - epsilon)\n",
    "        \n",
    "        N = predictions.shape[0]\n",
    "        ce = -np.sum(targets*np.log(predictions))/N\n",
    "        return ce\n",
    "    \n",
    "    def predict(self, X):\n",
    "        '''\n",
    "        The predict function.\n",
    "        Input: \n",
    "        - X \n",
    "        Output:\n",
    "        - Predicted class in the form of a softmax\n",
    "        '''\n",
    "        A = X.T\n",
    "        for layer in range(1, len(self._layers)-1):\n",
    "            Z = np.dot(self._params['W'][layer], A) + self._params['B'][layer]\n",
    "            A = self.a_dict[self.act[layer]](Z)\n",
    "        Z = np.dot(self._params['W'][len(self._layers)-1], A) + self._params['B'][len(self._layers)-1]\n",
    "        A = self.softmax(Z)\n",
    "        return A\n",
    "    \n",
    "    def forward(self, X):\n",
    "        '''\n",
    "        Forward propagation. Loops through all layers and calculates activations of each layer. The values are stored in \n",
    "        a variable called grad\n",
    "        '''\n",
    "        grad = {\n",
    "            'A' : {},\n",
    "            'Z' : {},\n",
    "        }\n",
    "        A = X.T\n",
    "        grad['A'][0] = A\n",
    "        \n",
    "        for layer in range(1, len(self._layers)-1):\n",
    "            Z = np.dot(self._params['W'][layer], A) + self._params['B'][layer]\n",
    "            #print(self._params['W'][layer].shape)\n",
    "            #A = self.sigmoid(Z)\n",
    "            A = self.a_dict[self.act[layer]](Z)\n",
    "            grad['A'][layer] = A\n",
    "            grad['Z'][layer] = Z\n",
    "        \n",
    "        Z = np.dot(self._params['W'][len(self._layers)-1], A) + self._params['B'][len(self._layers)-1]\n",
    "        A = self.softmax(Z)\n",
    "        \n",
    "        grad[\"A\"][len(self._layers) - 1] = A\n",
    "        grad[\"Z\"][len(self._layers) - 1] = Z\n",
    "        self.grad = grad\n",
    "        \n",
    "        return A\n",
    "    \n",
    "    def backwards(self, y_true):\n",
    "        '''\n",
    "        Backwards propagation. Loops through the layers in a reversed order and calculates the gradients of each layer.\n",
    "        The gradients are stores in a dictionary. In the last network layer the ground truth and the prediction are\n",
    "        compared.\n",
    "        \n",
    "        Input:\n",
    "        - y_true: ground truth\n",
    "        '''\n",
    "        n_layers = len(self._layers)\n",
    "        W = self._params['W']\n",
    "        B = self._params['B']\n",
    "        grad = self.grad\n",
    "        \n",
    "        gradients = {\n",
    "            'Z' : {},\n",
    "            'W' : {},\n",
    "            'b' : {}\n",
    "        }\n",
    "        for layer in reversed(range(1,n_layers)):\n",
    "            if layer == n_layers-1:\n",
    "                dZ = grad['A'][n_layers-1].reshape(grad['Z'][n_layers-1].shape) - y_true.reshape(grad['Z'][n_layers-1].shape)\n",
    "            else:\n",
    "                dZ = np.dot(W[layer+1].T, dZ) * self.d_dict[self.act[layer]](grad['Z'][layer])\n",
    "            \n",
    "            dW = np.dot(dZ, grad['A'][layer-1].T)\n",
    "            db = dZ\n",
    "            \n",
    "            gradients['Z'][layer] = dZ\n",
    "            gradients['W'][layer] = dW\n",
    "            gradients['b'][layer] = db\n",
    "        self.gradients = gradients\n",
    "        return gradients\n",
    "    \n",
    "    def optimize(self, lr):\n",
    "        '''\n",
    "        Loops over the layers of the network and updates the weights and biases in each layer based on gradients\n",
    "        from backprop and learning rate.\n",
    "        \n",
    "        Input:\n",
    "        - lr : learning rate\n",
    "        '''\n",
    "        for layer in range(1, len(self._layers)):\n",
    "            before = self._params['W'][layer].copy()\n",
    "            self._params['W'][layer] -= lr * self.gradients['W'][layer]\n",
    "            self._params['B'][layer] -= lr * self.gradients['b'][layer]\n",
    "    \n",
    "    def reset_gradients(self):\n",
    "        '''\n",
    "        Simply resets the gradients of the model\n",
    "        '''\n",
    "        self.gradients = {}\n",
    "        \n",
    "    def train(self, data, labels, n_epochs, lr=0.01):\n",
    "        '''\n",
    "        Neural network training procedure. Will loop over the training data for n_epochs times. For each training\n",
    "        example it will update the weights based on the gradients from backprop and the learning rate. \n",
    "        Additionally we keep the loss during all epochs for visualisation purposes.\n",
    "        \n",
    "        Input:\n",
    "        - data\n",
    "        - labels\n",
    "        - n_epochs : number of training epochs\n",
    "        - lr : learning rate (default = 0.01)\n",
    "        \n",
    "        Output:\n",
    "        - A list containing the averaged error for each epoch\n",
    "        '''\n",
    "        error = []\n",
    "        for epoch in range(n_epochs):\n",
    "            epoch_loss = 0\n",
    "            for x, y in zip(data,labels):\n",
    "                \n",
    "                pred = self.forward(x)\n",
    "                epoch_loss = epoch_loss + self.cross_entropy(pred, y)\n",
    "                self.backwards(y)\n",
    "                self.optimize(lr)\n",
    "                \n",
    "            error.append(epoch_loss / len(labels))\n",
    "        return error"
   ]
  },
  {
   "cell_type": "markdown",
   "metadata": {},
   "source": [
    "## XOR OneHot example:\n"
   ]
  },
  {
   "cell_type": "code",
   "execution_count": 3,
   "metadata": {},
   "outputs": [],
   "source": [
    "simpleNet = FeedforwardNN([(2,\"relu\") ,(9,\"relu\"), (2,\"relu\")])\n",
    "\n",
    "# XOR function\n",
    "data = [np.array([[0,0]]), np.array([[0,1]]), np.array([[1,0]]), np.array([[1,1]])]\n",
    "labels = [np.array([[0,1]]), np.array([[1,0]]), np.array([[1,0]]), np.array([[0,1]])]\n",
    "\n",
    "error = simpleNet.train(data, labels, 1000, lr=0.1)\n"
   ]
  },
  {
   "cell_type": "code",
   "execution_count": 171,
   "metadata": {},
   "outputs": [
    {
     "name": "stdout",
     "output_type": "stream",
     "text": [
      "[0.00106014 0.99893986]\n",
      "0.0005303498754495689\n",
      "Low loss when prediction is correct\n"
     ]
    }
   ],
   "source": [
    "# TP example\n",
    "pred = simpleNet.predict(np.array([[1,1]])).reshape(2,)\n",
    "loss = simpleNet.cross_entropy(pred, np.array([[0,1]]))\n",
    "\n",
    "print(pred)\n",
    "print(loss)\n",
    "print(\"Low loss when prediction is correct\")"
   ]
  },
  {
   "cell_type": "code",
   "execution_count": 172,
   "metadata": {},
   "outputs": [
    {
     "name": "stdout",
     "output_type": "stream",
     "text": [
      "[0.00106014 0.99893986]\n",
      "3.424678374647755\n",
      "High loss when prediction is wrong\n"
     ]
    }
   ],
   "source": [
    "# TN example\n",
    "pred = simpleNet.predict(np.array([[1,1]])).reshape(2,)\n",
    "loss = simpleNet.cross_entropy(pred, np.array([[1,0]]))\n",
    "\n",
    "print(pred)\n",
    "print(loss)\n",
    "print(\"High loss when prediction is wrong\")"
   ]
  },
  {
   "cell_type": "code",
   "execution_count": 173,
   "metadata": {},
   "outputs": [
    {
     "data": {
      "text/plain": [
       "[<matplotlib.lines.Line2D at 0x2243a908ac0>]"
      ]
     },
     "execution_count": 173,
     "metadata": {},
     "output_type": "execute_result"
    },
    {
     "data": {
      "image/png": "[encoded data removed]",
      "text/plain": [
       "<Figure size 432x288 with 1 Axes>"
      ]
     },
     "metadata": {
      "needs_background": "light"
     },
     "output_type": "display_data"
    }
   ],
   "source": [
    "plt.plot(error)"
   ]
  },
  {
   "cell_type": "code",
   "execution_count": 174,
   "metadata": {},
   "outputs": [],
   "source": [
    "def encodeData(data, max_size=500):\n",
    "    '''\n",
    "    Function used for OneHot encodings\n",
    "    \n",
    "    Input:\n",
    "    - Data in the form list of numbers.\n",
    "    \n",
    "    Output:\n",
    "    - List where entries now are onehot encoded.\n",
    "    '''\n",
    "    res = np.zeros((data.size, max_size))\n",
    "    res[np.arange(data.size),data] = 1\n",
    "    return res"
   ]
  },
  {
   "cell_type": "markdown",
   "metadata": {},
   "source": [
    "# Quick learning visualization\n",
    "\n",
    "Here is a quick example showing that the model is learning quickly.\n",
    "\n",
    "Learning using the ReLU goes very quickly but is for some reason a little unstable. I have not been able to figure out what is the reason behind this.\n",
    "\n",
    "Learning using the sigmoid is very stable and we get a nice learning curve"
   ]
  },
  {
   "cell_type": "code",
   "execution_count": 120,
   "metadata": {},
   "outputs": [],
   "source": [
    "from sklearn import datasets\n",
    "\n",
    "iris = datasets.load_iris()\n",
    "X = list(iris.data)\n",
    "X = [np.array([x]) for x in X]\n",
    "y = list(encodeData(iris.target, 3))\n",
    "y = [np.array([i]) for i in y]\n"
   ]
  },
  {
   "cell_type": "code",
   "execution_count": 121,
   "metadata": {},
   "outputs": [
    {
     "data": {
      "text/plain": [
       "[<matplotlib.lines.Line2D at 0x224375a7910>]"
      ]
     },
     "execution_count": 121,
     "metadata": {},
     "output_type": "execute_result"
    },
    {
     "data": {
      "image/png": "[encoded data removed]",
      "text/plain": [
       "<Figure size 432x288 with 1 Axes>"
      ]
     },
     "metadata": {
      "needs_background": "light"
     },
     "output_type": "display_data"
    }
   ],
   "source": [
    "nn = FeedforwardNN([(4,\"does nothing\"),(24, \"relu\"),(3,\"does nothing\")])\n",
    "error = nn.train(X,y, 1000)\n",
    "plt.plot(error)"
   ]
  },
  {
   "cell_type": "code",
   "execution_count": 122,
   "metadata": {},
   "outputs": [
    {
     "data": {
      "text/plain": [
       "[<matplotlib.lines.Line2D at 0x2243a5be8e0>]"
      ]
     },
     "execution_count": 122,
     "metadata": {},
     "output_type": "execute_result"
    },
    {
     "data": {
      "image/png": "[encoded data removed]",
      "text/plain": [
       "<Figure size 432x288 with 1 Axes>"
      ]
     },
     "metadata": {
      "needs_background": "light"
     },
     "output_type": "display_data"
    }
   ],
   "source": [
    "nn = FeedforwardNN([(4,\"does nothing\"),(24, \"sigmoid\"),(3,\"does nothing\")])\n",
    "error = nn.train(X,y, 1000)\n",
    "plt.plot(error)"
   ]
  },
  {
   "cell_type": "markdown",
   "metadata": {},
   "source": [
    "\n",
    "## Embeddings"
   ]
  },
  {
   "cell_type": "code",
   "execution_count": 123,
   "metadata": {},
   "outputs": [],
   "source": [
    "import tensorflow as tf\n",
    "import re\n",
    "from string import punctuation\n",
    "import nltk\n",
    "from nltk import word_tokenize\n",
    "from nltk.util import ngrams\n",
    "from collections import Counter"
   ]
  },
  {
   "cell_type": "code",
   "execution_count": 124,
   "metadata": {},
   "outputs": [],
   "source": [
    "path_to_file = tf.keras.utils.get_file('shakespeare.txt', 'https://storage.googleapis.com/download.tensorflow.org/data/shakespeare.txt')"
   ]
  },
  {
   "cell_type": "code",
   "execution_count": 125,
   "metadata": {},
   "outputs": [],
   "source": [
    "path_to_file = tf.keras.utils.get_file('shakespeare.txt', 'https://storage.googleapis.com/download.tensorflow.org/data/shakespeare.txt')\n",
    "def getData(vocab_size = 500, path_to_file = path_to_file):\n",
    "    '''\n",
    "    Function to creates out vocabulary, and separates our data into training examples. \n",
    "    It also makes sure that the words in the training data are in the vocab.\n",
    "    Input:\n",
    "    - Vocab_size: How large is your vocab (default 500 for quick learning)\n",
    "    - Path_to_file: Path to the dataset file, in this case shakespeare\n",
    "    \n",
    "    Output:\n",
    "    - V: Vocab\n",
    "    - X: Training data\n",
    "    - y: Training labels\n",
    "    '''\n",
    "    \n",
    "    with open(path_to_file) as f: \n",
    "        data = f.read()\n",
    "    f.close()\n",
    "    \n",
    "    data = data\n",
    "    \n",
    "    stoplist = set(list(punctuation) + [\"--\"])\n",
    "    tokens = [token for token in nltk.word_tokenize(data.lower()) if token not in stoplist]\n",
    "    \n",
    "    count = Counter(tokens)\n",
    "    vocab = [ x for (x,y) in count.most_common(vocab_size)]\n",
    "    \n",
    "    data_ngrams = list(ngrams(tokens, 4))\n",
    "    \n",
    "    # Checks that all words are in vocab.\n",
    "    in_vocab = [ngram for ngram in data_ngrams if all([x in vocab for x in ngram])]\n",
    "\n",
    "    X = [example[:3] for example in in_vocab]\n",
    "    y = [example[-1] for example in in_vocab]\n",
    "    return vocab, X, y\n",
    "    \n",
    "    \n",
    "v, X, y = getData(vocab_size=500)"
   ]
  },
  {
   "cell_type": "code",
   "execution_count": 177,
   "metadata": {},
   "outputs": [
    {
     "name": "stdout",
     "output_type": "stream",
     "text": [
      "[('first', 'citizen', 'before'), ('hear', 'me', 'speak'), ('me', 'speak', 'all'), ('speak', 'all', 'speak')]\n",
      "['we', 'all', 'speak', 'speak']\n",
      "63246\n"
     ]
    }
   ],
   "source": [
    "print(X[:4])\n",
    "print(y[:4])\n",
    "print(len(X))"
   ]
  },
  {
   "cell_type": "code",
   "execution_count": 127,
   "metadata": {},
   "outputs": [],
   "source": [
    "# Here we create mappings from words to ints and back. This is used when creating embeddings\n",
    "word_to_int = {}\n",
    "int_to_word = {}\n",
    "for i, word in enumerate(v):\n",
    "    word_to_int[word] = i\n",
    "    int_to_word[i] = word"
   ]
  },
  {
   "cell_type": "code",
   "execution_count": 128,
   "metadata": {},
   "outputs": [],
   "source": [
    "# In this case 64 dimensions\n",
    "model = FeedforwardNN([(1500,\"does nothing\"),(64, \"sigmoid\"),(500,\"does nothing\")])"
   ]
  },
  {
   "cell_type": "code",
   "execution_count": 129,
   "metadata": {},
   "outputs": [],
   "source": [
    "\n",
    "def training_procedure(model, X, y, epochs):\n",
    "    '''\n",
    "    For each training example, encode it and its label\n",
    "    Feed this new encoded dataset into out model.\n",
    "    '''\n",
    "    n_examples = len(y)\n",
    "    \n",
    "    onehot_data = []\n",
    "    onehot_labels = []\n",
    "    for context, label in zip(X,y):\n",
    "        converted = np.asarray([word_to_int[word] for word in context])\n",
    "        encoded_data = encodeData(np.asarray(convert), 500).reshape(1,1500)\n",
    "        encoded_label = encodeData(np.asarray(word_to_int[label]), 500)\n",
    "        \n",
    "        onehot_data.append(encoded_data)\n",
    "        onehot_labels.append(encoded_label)\n",
    "    \n",
    "    \n",
    "    model.train(onehot_data, onehot_labels, epochs)\n",
    "        \n",
    "training_procedure(model, X, y, 10)\n"
   ]
  },
  {
   "cell_type": "code",
   "execution_count": 165,
   "metadata": {},
   "outputs": [],
   "source": [
    "weights = model._params['W'][2]\n",
    "vocab = v"
   ]
  },
  {
   "cell_type": "code",
   "execution_count": 166,
   "metadata": {},
   "outputs": [],
   "source": [
    "import io\n",
    "out_v = io.open('vectors.tsv', 'w', encoding='utf-8')\n",
    "out_m = io.open('metadata.tsv', 'w', encoding='utf-8')\n",
    "\n",
    "for index, word in enumerate(vocab):\n",
    "\n",
    "    vec = weights[index]\n",
    "    out_v.write('\\t'.join([str(x) for x in vec]) + \"\\n\")\n",
    "    out_m.write(word + \"\\n\")\n",
    "out_v.close()\n",
    "out_m.close()"
   ]
  },
  {
   "cell_type": "code",
   "execution_count": null,
   "metadata": {},
   "outputs": [],
   "source": []
  }
 ],
 "metadata": {
  "kernelspec": {
   "display_name": "Python 3",
   "language": "python",
   "name": "python3"
  },
  "language_info": {
   "codemirror_mode": {
    "name": "ipython",
    "version": 3
   },
   "file_extension": ".py",
   "mimetype": "text/x-python",
   "name": "python",
   "nbconvert_exporter": "python",
   "pygments_lexer": "ipython3",
   "version": "3.8.5"
  }
 },
 "nbformat": 4,
 "nbformat_minor": 4
}
