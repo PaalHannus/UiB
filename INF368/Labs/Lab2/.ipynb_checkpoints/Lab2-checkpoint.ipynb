{
 "cells": [
  {
   "cell_type": "code",
   "execution_count": 6,
   "metadata": {},
   "outputs": [],
   "source": [
    "#LAB 2\n",
    "import nltk\n",
    "from nltk.util import ngrams\n"
   ]
  },
  {
   "cell_type": "code",
   "execution_count": 9,
   "metadata": {},
   "outputs": [
    {
     "name": "stdout",
     "output_type": "stream",
     "text": [
      "[('There', 'are'), ('are', 'millions'), ('millions', 'of'), ('of', 'gorgeous'), ('gorgeous', 'lines'), ('lines', 'of'), ('of', 'prose.')]\n",
      "[('There', 'are', 'millions'), ('are', 'millions', 'of'), ('millions', 'of', 'gorgeous'), ('of', 'gorgeous', 'lines'), ('gorgeous', 'lines', 'of'), ('lines', 'of', 'prose.')]\n"
     ]
    }
   ],
   "source": [
    "sentence = \"There are millions of gorgeous lines of prose.\"\n",
    "\n",
    "# print(list(nltk.everygrams(sentence.split(), 2, 3)))\n",
    "bigrams = list(ngrams(sentence.split(), 2))\n",
    "trigrams = list(ngrams(sentence.split(), 3))\n",
    "\n",
    "print(bigrams)\n",
    "print(trigrams)"
   ]
  },
  {
   "cell_type": "code",
   "execution_count": 24,
   "metadata": {},
   "outputs": [
    {
     "name": "stdout",
     "output_type": "stream",
     "text": [
      "[('There', 'are', 'millions', 'of'), ('are', 'millions', 'of', 'gorgeous'), ('millions', 'of', 'gorgeous', 'lines'), ('of', 'gorgeous', 'lines', 'of'), ('gorgeous', 'lines', 'of', 'prose.')]\n"
     ]
    }
   ],
   "source": [
    "#4-grams\n",
    "fourgrams = list(ngrams(sentence.split(), 4))\n",
    "print(fourgrams)"
   ]
  },
  {
   "cell_type": "code",
   "execution_count": 28,
   "metadata": {},
   "outputs": [
    {
     "name": "stdout",
     "output_type": "stream",
     "text": [
      "[(('There', 'EX'), ('are', 'VBP')), (('are', 'VBP'), ('millions', 'NNS')), (('millions', 'NNS'), ('of', 'IN')), (('of', 'IN'), ('gorgeous', 'JJ')), (('gorgeous', 'JJ'), ('lines', 'NNS')), (('lines', 'NNS'), ('of', 'IN')), (('of', 'IN'), ('prose', 'NN')), (('prose', 'NN'), ('.', '.'))]\n"
     ]
    }
   ],
   "source": [
    "tokens = nltk.word_tokenize(sentence)\n",
    "tags = nltk.pos_tag(tokens)\n",
    "\n",
    "bigram_tags = list(ngrams(tags, 2))\n",
    "print(bigram_tags)"
   ]
  },
  {
   "cell_type": "code",
   "execution_count": 33,
   "metadata": {},
   "outputs": [
    {
     "name": "stdout",
     "output_type": "stream",
     "text": [
      "--- Bigrams consisting of VERBS, ADJECTIVES and NOUNS ---\n",
      "[(('are', 'VBP'), ('millions', 'NNS')), (('gorgeous', 'JJ'), ('lines', 'NNS'))]\n"
     ]
    }
   ],
   "source": [
    "verb_notations = ['VB', 'VBD', 'VBG', 'VBN', 'VBP', 'VBZ']\n",
    "noun_notations = ['NN', 'NNS', 'NNP', 'NNPS']\n",
    "adjective_notations = ['JJ', 'JJR', 'JJS']\n",
    "notations = verb_notations + noun_notations + adjective_notations\n",
    "\n",
    "bigrams_nouns_verbs_adjectives = list(filter(lambda x:x[0][1] in notations and x[1][1] in notations, bigram_tags))\n",
    "\n",
    "print(\"--- Bigrams consisting of VERBS, ADJECTIVES and NOUNS ---\")\n",
    "print(bigrams_nouns_verbs_adjectives)"
   ]
  },
  {
   "cell_type": "code",
   "execution_count": null,
   "metadata": {},
   "outputs": [],
   "source": []
  }
 ],
 "metadata": {
  "kernelspec": {
   "display_name": "Python 3",
   "language": "python",
   "name": "python3"
  },
  "language_info": {
   "codemirror_mode": {
    "name": "ipython",
    "version": 3
   },
   "file_extension": ".py",
   "mimetype": "text/x-python",
   "name": "python",
   "nbconvert_exporter": "python",
   "pygments_lexer": "ipython3",
   "version": "3.8.5"
  }
 },
 "nbformat": 4,
 "nbformat_minor": 4
}
