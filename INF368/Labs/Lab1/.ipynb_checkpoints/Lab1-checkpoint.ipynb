{
 "cells": [
  {
   "cell_type": "code",
   "execution_count": 2,
   "metadata": {},
   "outputs": [],
   "source": [
    "\n",
    "import nltk\n",
    "from nltk.collocations import *\n"
   ]
  },
  {
   "cell_type": "code",
   "execution_count": 15,
   "metadata": {},
   "outputs": [
    {
     "name": "stdout",
     "output_type": "stream",
     "text": [
      "---- TOKENS ----\n",
      "['In', 'Berlin', 'I', 'took', 'my', 'hat', 'off', '.', 'But', 'I', 'can', '’', 't', 'put', 'it', 'back', 'on', '.']\n",
      "\n",
      "---- TAGS ----\n",
      "[('In', 'IN'), ('Berlin', 'NNP'), ('I', 'PRP'), ('took', 'VBD'), ('my', 'PRP$'), ('hat', 'NN'), ('off', 'IN'), ('.', '.'), ('But', 'CC'), ('I', 'PRP'), ('can', 'MD'), ('’', 'VB'), ('t', 'NN'), ('put', 'VBD'), ('it', 'PRP'), ('back', 'RP'), ('on', 'IN'), ('.', '.')]\n",
      "\n",
      "---- Entities ----\n",
      "Tree('S', [('In', 'IN'), Tree('GPE', [('Berlin', 'NNP')]), ('I', 'PRP'), ('took', 'VBD'), ('my', 'PRP$'), ('hat', 'NN'), ('off', 'IN'), ('.', '.'), ('But', 'CC'), ('I', 'PRP'), ('can', 'MD'), ('’', 'VB'), ('t', 'NN'), ('put', 'VBD'), ('it', 'PRP'), ('back', 'RP'), ('on', 'IN'), ('.', '.')])\n"
     ]
    }
   ],
   "source": [
    "\n",
    "text = \"In Berlin I took my hat off. But I can’t put it back on.\"\n",
    "tokens = nltk.word_tokenize(text)\n",
    "tags = nltk.pos_tag(tokens)\n",
    "print(\"---- TOKENS ----\")\n",
    "print(tokens)\n",
    "\n",
    "print()\n",
    "print(\"---- TAGS ----\")\n",
    "print(tags)\n",
    "\n",
    "\n",
    "print()\n",
    "print(\"---- Entities ----\")\n",
    "entities = nltk.chunk.ne_chunk(tags)\n",
    "print(entities.__repr__())"
   ]
  },
  {
   "cell_type": "markdown",
   "metadata": {},
   "source": [
    "### It is not able to identify Dusseldorf, but when changed for Berlin the named entry is identified. \n",
    "\n",
    "#### Although NNP is the encoding for proper singular noun. Which seem to be the named entries. In this case the only named entry is \"Dusseldorf\""
   ]
  },
  {
   "cell_type": "code",
   "execution_count": 5,
   "metadata": {},
   "outputs": [
    {
     "data": {
      "text/plain": [
       "[('Beer', 'Lahai'),\n",
       " ('Lahai', 'Roi'),\n",
       " ('gray', 'hairs'),\n",
       " ('Most', 'High'),\n",
       " ('ewe', 'lambs'),\n",
       " ('many', 'colors'),\n",
       " ('burnt', 'offering'),\n",
       " ('Paddan', 'Aram'),\n",
       " ('east', 'wind'),\n",
       " ('living', 'creature')]"
      ]
     },
     "execution_count": 5,
     "metadata": {},
     "output_type": "execute_result"
    }
   ],
   "source": [
    "bigram_measures = nltk.collocations.BigramAssocMeasures()\n",
    "finder = BigramCollocationFinder.from_words(nltk.corpus.genesis.words('english-web.txt'))\n",
    "finder.apply_freq_filter(3)\n",
    "finder.nbest(bigram_measures.pmi, 10)"
   ]
  },
  {
   "cell_type": "code",
   "execution_count": null,
   "metadata": {},
   "outputs": [],
   "source": []
  }
 ],
 "metadata": {
  "kernelspec": {
   "display_name": "Python 3",
   "language": "python",
   "name": "python3"
  },
  "language_info": {
   "codemirror_mode": {
    "name": "ipython",
    "version": 3
   },
   "file_extension": ".py",
   "mimetype": "text/x-python",
   "name": "python",
   "nbconvert_exporter": "python",
   "pygments_lexer": "ipython3",
   "version": "3.8.5"
  }
 },
 "nbformat": 4,
 "nbformat_minor": 4
}
