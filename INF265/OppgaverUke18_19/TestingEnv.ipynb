{
 "cells": [
  {
   "cell_type": "code",
   "execution_count": 1,
   "metadata": {},
   "outputs": [],
   "source": [
    "\n",
    "import torch\n",
    "import numpy as np\n",
    "\n"
   ]
  },
  {
   "cell_type": "code",
   "execution_count": 8,
   "metadata": {},
   "outputs": [
    {
     "name": "stdout",
     "output_type": "stream",
     "text": [
      "torch.Size([5, 3, 2])\n",
      "tensor([0.5409, 0.5205])\n",
      "tensor([[[0.3701, 0.4655],\n",
      "         [0.2447, 0.1531],\n",
      "         [0.0491, 0.1154]],\n",
      "\n",
      "        [[0.2697, 0.4085],\n",
      "         [0.0312, 0.3023],\n",
      "         [0.5288, 0.4328]],\n",
      "\n",
      "        [[0.0186, 0.4771],\n",
      "         [0.3216, 0.2217],\n",
      "         [0.3750, 0.1377]],\n",
      "\n",
      "        [[0.0457, 0.2110],\n",
      "         [0.0885, 0.0230],\n",
      "         [0.0570, 0.1972]],\n",
      "\n",
      "        [[0.1331, 0.0254],\n",
      "         [0.1215, 0.0437],\n",
      "         [0.1512, 0.4005]]])\n"
     ]
    }
   ],
   "source": [
    "\n",
    "a = torch.rand((5,3,2))\n",
    "b = torch.rand((2))\n",
    "\n",
    "print(a.shape)\n",
    "print(b)\n",
    "\n",
    "print(a*b)"
   ]
  },
  {
   "cell_type": "code",
   "execution_count": null,
   "metadata": {},
   "outputs": [],
   "source": []
  }
 ],
 "metadata": {
  "kernelspec": {
   "display_name": "Python 3",
   "language": "python",
   "name": "python3"
  },
  "language_info": {
   "codemirror_mode": {
    "name": "ipython",
    "version": 3
   },
   "file_extension": ".py",
   "mimetype": "text/x-python",
   "name": "python",
   "nbconvert_exporter": "python",
   "pygments_lexer": "ipython3",
   "version": "3.8.5"
  }
 },
 "nbformat": 4,
 "nbformat_minor": 4
}
